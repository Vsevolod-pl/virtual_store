{
 "cells": [
  {
   "cell_type": "code",
   "execution_count": 1,
   "id": "79f93654",
   "metadata": {},
   "outputs": [],
   "source": [
    "import json\n",
    "\n",
    "from wsgiref.simple_server import make_server\n",
    "from pyramid.config import Configurator\n",
    "from pyramid.response import Response"
   ]
  },
  {
   "cell_type": "code",
   "execution_count": 2,
   "id": "3f33ec44",
   "metadata": {},
   "outputs": [],
   "source": [
    "with open('data.json', 'r') as f:\n",
    "    data = json.load(f)"
   ]
  },
  {
   "cell_type": "code",
   "execution_count": 3,
   "id": "6ba50959",
   "metadata": {},
   "outputs": [
    {
     "name": "stdout",
     "output_type": "stream",
     "text": [
      "\n",
      "<style>\n",
      "details > summary {\n",
      "  padding: 4px;\n",
      "  border: none;\n",
      "  cursor: pointer;\n",
      "}\n",
      "\n",
      "details > p {\n",
      "  padding: 4px;\n",
      "  margin: 0;\n",
      "}\n",
      "</style>\n",
      "\n",
      "\n"
     ]
    }
   ],
   "source": [
    "with open('./styles.css', 'r') as f:\n",
    "    style_thing = f.read()\n",
    "print(style_thing)"
   ]
  },
  {
   "cell_type": "code",
   "execution_count": 4,
   "id": "a8ec0d00",
   "metadata": {},
   "outputs": [],
   "source": [
    "js_functions = '<script src=\"js/script.js\"></script>'"
   ]
  },
  {
   "cell_type": "code",
   "execution_count": 5,
   "id": "25bc976b",
   "metadata": {},
   "outputs": [],
   "source": [
    "def diclis2htm(diclis, nest_level=0, path_to_thing=[]):\n",
    "    res = ''\n",
    "    path_to_thing = path_to_thing.copy()\n",
    "    \n",
    "    if type(diclis) is dict:\n",
    "        \n",
    "        if not diclis['visible']:\n",
    "            return ''\n",
    "        \n",
    "        if 'itemtype' in diclis:\n",
    "            res = '<div style=\"display:inline-block\">'\n",
    "            res += '<details>\\n<summary>'\n",
    "            res += '_'*nest_level*0 + diclis['name'] + '    cost: ' + str(diclis['cost'])\n",
    "            res += '</summary>\\n'\n",
    "            res += '<div style=\"width: 50%; float:left\">\\n'\n",
    "            for key in diclis:\n",
    "                if key != 'visible' and key != 'itemtype' and key != 'name' and key != 'cost' and key != 'img_url' and key != 'description':\n",
    "                    res += f'<p><b>{key}</b>: {diclis[key]}</p>'\n",
    "            \n",
    "            res += '</div>\\n<div style=\"width: 50%; float:right\">\\n'\n",
    "            if 'img_url' in diclis:\n",
    "                img_url = diclis['img_url']\n",
    "                res += f'<img src={img_url} style=\"width: 100%\">\\n'\n",
    "            description = diclis['description']\n",
    "            if description == '':\n",
    "                description = 'No description provided'\n",
    "            res += f'<p><b>Description:</b>\\n{description}</p>'\n",
    "            \n",
    "            name = diclis['name']\n",
    "            cost = diclis['cost']\n",
    "            path = json.dumps(path_to_thing)\n",
    "            path = path.replace('\"', \"\\\\'\")\n",
    "            res += f'<button onclick=\"add_item(\\'{name}\\', {cost}, \\'{path}\\')\">Add to list</button>'\n",
    "            \n",
    "            res += '</div>\\n'\n",
    "            \n",
    "            res += '</details>\\n</div>\\n'\n",
    "            return res\n",
    "        \n",
    "        for key in diclis:\n",
    "            if key != 'visible' and key != 'name':\n",
    "                if (type(diclis[key]) is dict and 'itemtype' in diclis[key]):\n",
    "                    res += '<p>\\n' + diclis2htm(diclis[key], nest_level+1, path_to_thing+[key]) + '</p>\\n'\n",
    "                else:\n",
    "                    res += '<details>\\n<summary>' + '_'*nest_level*4 + diclis[key]['name'] + '</summary>\\n'\n",
    "                    res += diclis2htm(diclis[key], nest_level+1, path_to_thing+[key])\n",
    "                    res += '</details>\\n'\n",
    "        return res\n",
    "    elif type(diclis) is list:\n",
    "        i = 0\n",
    "        for item in diclis:\n",
    "            i += 1\n",
    "            res += '<p>\\n' + diclis2htm(item, nest_level, path_to_thing+[i]) + '</p>\\n'\n",
    "            \n",
    "        return res\n",
    "    else:\n",
    "        return str(diclis) + '\\n'"
   ]
  },
  {
   "cell_type": "code",
   "execution_count": 6,
   "id": "54bcebc7",
   "metadata": {},
   "outputs": [],
   "source": [
    "example = {\n",
    "    'visible':True,\n",
    "    'things': {\n",
    "        'visible':True\n",
    "    }\n",
    "}"
   ]
  },
  {
   "cell_type": "code",
   "execution_count": 7,
   "id": "7e757615",
   "metadata": {},
   "outputs": [],
   "source": [
    "def magaz(request):\n",
    "    res = '<html>' + style_thing + js_functions + '<body>\\n'\n",
    "    res += '<div style=\"width: 80%; float:left; display:inline-block\">'\n",
    "    res += diclis2htm(data)\n",
    "    res += '</div><div style=\"width: 17%; float:right; display:inline-block\">'\n",
    "    res += '<form id=\"buying_form\" action=\"/magaz_backend\">'\n",
    "    res += '<input type=\"submit\" value=\"Оформить покупку\" style=\"width: 100%;\">\\n'\n",
    "    res += '</form></div>'\n",
    "    res += '</body></html>'\n",
    "    \n",
    "    return Response(res)"
   ]
  },
  {
   "cell_type": "code",
   "execution_count": 8,
   "id": "784b798c",
   "metadata": {},
   "outputs": [],
   "source": [
    "def get_from_path(data, path):\n",
    "    if path:\n",
    "        return get_from_path(data[path[0]], path[1:])\n",
    "    else:\n",
    "        return data.copy()"
   ]
  },
  {
   "cell_type": "code",
   "execution_count": 9,
   "id": "2d510864",
   "metadata": {},
   "outputs": [],
   "source": [
    "bought_nothing = '''<html><body>\n",
    "<h1>You've bought nothing.\n",
    ":(</h1>\n",
    "</body></html>'''"
   ]
  },
  {
   "cell_type": "code",
   "execution_count": 10,
   "id": "d9be9ad5",
   "metadata": {},
   "outputs": [],
   "source": [
    "def magaz_backend(request):\n",
    "    paths = request.GET.getall('path')\n",
    "    if not paths:\n",
    "        return Response(bought_nothing)\n",
    "    \n",
    "    paths = [json.loads(path.replace(\"'\", '\"')) for path in paths]\n",
    "    listofthings = [get_from_path(data, path) for path in paths]\n",
    "    nums = [max(int(i), 0) for i in request.GET.getall('number')]\n",
    "    cost = 0\n",
    "    for i, item in enumerate(listofthings):\n",
    "        cost += item['cost']*nums[i]\n",
    "        item['cost'] = '\\t'+str(item['cost']) + f'$, {nums[i]} штукей'\n",
    "    res = '<html>' + style_thing + '<body>\\n'\n",
    "    res += f'<h1>You have to pay: {cost}$</h1>'\n",
    "    res += '<div style=\"width: 80%; left:50%; display:inline-block\">'\n",
    "    \n",
    "    res += diclis2htm(listofthings)\n",
    "    res += '</div>'\n",
    "    res += '</body></html>'\n",
    "    return Response(res)"
   ]
  },
  {
   "cell_type": "code",
   "execution_count": 11,
   "id": "c7f3b234",
   "metadata": {},
   "outputs": [],
   "source": [
    "with Configurator() as config:\n",
    "    config.add_route('magaz', '/magaz')\n",
    "    config.add_view(magaz, route_name='magaz')\n",
    "    config.add_route('magaz_backend', '//magaz_backend')\n",
    "    config.add_view(magaz_backend, route_name='magaz_backend')\n",
    "    config.add_static_view(name='images//', path='.//images//')\n",
    "    config.add_static_view(name='js//', path='.//js//')\n",
    "    app = config.make_wsgi_app()\n",
    "server = make_server('0.0.0.0', 6543, app)"
   ]
  },
  {
   "cell_type": "code",
   "execution_count": null,
   "id": "55da1b86",
   "metadata": {},
   "outputs": [
    {
     "name": "stderr",
     "output_type": "stream",
     "text": [
      "127.0.0.1 - - [02/Jan/2023 08:49:02] \"GET / HTTP/1.1\" 404 153\n",
      "127.0.0.1 - - [02/Jan/2023 08:49:07] \"GET /magaz HTTP/1.1\" 200 1345164\n",
      "127.0.0.1 - - [02/Jan/2023 08:49:07] \"GET /js/script.js HTTP/1.1\" 404 165\n"
     ]
    }
   ],
   "source": [
    "server.serve_forever()"
   ]
  },
  {
   "cell_type": "code",
   "execution_count": null,
   "id": "46469d92",
   "metadata": {},
   "outputs": [],
   "source": [
    "while True:\n",
    "    pass"
   ]
  }
 ],
 "metadata": {
  "kernelspec": {
   "display_name": "Python 3 (ipykernel)",
   "language": "python",
   "name": "python3"
  },
  "language_info": {
   "codemirror_mode": {
    "name": "ipython",
    "version": 3
   },
   "file_extension": ".py",
   "mimetype": "text/x-python",
   "name": "python",
   "nbconvert_exporter": "python",
   "pygments_lexer": "ipython3",
   "version": "3.9.5"
  }
 },
 "nbformat": 4,
 "nbformat_minor": 5
}
